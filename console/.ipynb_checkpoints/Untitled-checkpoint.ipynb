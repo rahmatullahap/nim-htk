{
 "cells": [
  {
   "cell_type": "code",
   "execution_count": 8,
   "metadata": {},
   "outputs": [],
   "source": [
    "import os\n",
    "import fileinput"
   ]
  },
  {
   "cell_type": "code",
   "execution_count": 35,
   "metadata": {},
   "outputs": [],
   "source": [
    "directory = './data/train/lab/'\n",
    "for filename in os.listdir(directory):\n",
    "    complete_filename = os.path.join(directory, filename)\n",
    "    \n",
    "    is_audacity_lab_file = False\n",
    "    replace_line_array = []\n",
    "    \n",
    "    with open(complete_filename) as file:\n",
    "        for line in file:\n",
    "            # Lab file from audacity\n",
    "            if '.' in line:\n",
    "                line_array = []\n",
    "                replace_line = ''\n",
    "                if is_audacity_lab_file == False:\n",
    "                    is_audacity_lab_file = True\n",
    "                element = line.split()\n",
    "                for e in element:\n",
    "                    if '.' in e:\n",
    "                        e = str(int(e.replace('.', ''))) + '0'\n",
    "                \n",
    "                    line_array.append(e)\n",
    "                replace_line = ' '.join(line_array) + '\\n'\n",
    "                replace_line_array.append(replace_line)\n",
    "                    \n",
    "    if is_audacity_lab_file:\n",
    "        with open(complete_filename, 'w') as outfile:\n",
    "            for line in replace_line_array:\n",
    "                outfile.write(line)"
   ]
  },
  {
   "cell_type": "code",
   "execution_count": null,
   "metadata": {},
   "outputs": [],
   "source": []
  }
 ],
 "metadata": {
  "kernelspec": {
   "display_name": "Python 2",
   "language": "python",
   "name": "python2"
  },
  "language_info": {
   "codemirror_mode": {
    "name": "ipython",
    "version": 2
   },
   "file_extension": ".py",
   "mimetype": "text/x-python",
   "name": "python",
   "nbconvert_exporter": "python",
   "pygments_lexer": "ipython2",
   "version": "2.7.15"
  }
 },
 "nbformat": 4,
 "nbformat_minor": 2
}
